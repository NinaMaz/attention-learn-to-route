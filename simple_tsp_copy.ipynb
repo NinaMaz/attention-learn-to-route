{
 "cells": [
  {
   "cell_type": "code",
   "execution_count": 11,
   "id": "fc2ad0f1",
   "metadata": {},
   "outputs": [],
   "source": [
    "import torch\n",
    "import numpy as np\n",
    "from utils import load_model\n",
    "import matplotlib.pyplot as plt"
   ]
  },
  {
   "cell_type": "code",
   "execution_count": 2,
   "id": "a22fd815",
   "metadata": {},
   "outputs": [
    {
     "name": "stdout",
     "output_type": "stream",
     "text": [
      "  [*] Loading model from pretrained/tsp_100/epoch-99.pt\n"
     ]
    }
   ],
   "source": [
    "model = load_model(\"pretrained/tsp_100/\")"
   ]
  },
  {
   "cell_type": "code",
   "execution_count": 14,
   "id": "894cb59c",
   "metadata": {},
   "outputs": [
    {
     "data": {
      "text/plain": [
       "(AttentionModel(\n",
       "   (init_embed): Linear(in_features=2, out_features=128, bias=True)\n",
       "   (embedder): GraphAttentionEncoder(\n",
       "     (layers): Sequential(\n",
       "       (0): MultiHeadAttentionLayer(\n",
       "         (0): SkipConnection(\n",
       "           (module): MultiHeadAttention()\n",
       "         )\n",
       "         (1): Normalization(\n",
       "           (normalizer): BatchNorm1d(128, eps=1e-05, momentum=0.1, affine=True, track_running_stats=True)\n",
       "         )\n",
       "         (2): SkipConnection(\n",
       "           (module): Sequential(\n",
       "             (0): Linear(in_features=128, out_features=512, bias=True)\n",
       "             (1): ReLU()\n",
       "             (2): Linear(in_features=512, out_features=128, bias=True)\n",
       "           )\n",
       "         )\n",
       "         (3): Normalization(\n",
       "           (normalizer): BatchNorm1d(128, eps=1e-05, momentum=0.1, affine=True, track_running_stats=True)\n",
       "         )\n",
       "       )\n",
       "       (1): MultiHeadAttentionLayer(\n",
       "         (0): SkipConnection(\n",
       "           (module): MultiHeadAttention()\n",
       "         )\n",
       "         (1): Normalization(\n",
       "           (normalizer): BatchNorm1d(128, eps=1e-05, momentum=0.1, affine=True, track_running_stats=True)\n",
       "         )\n",
       "         (2): SkipConnection(\n",
       "           (module): Sequential(\n",
       "             (0): Linear(in_features=128, out_features=512, bias=True)\n",
       "             (1): ReLU()\n",
       "             (2): Linear(in_features=512, out_features=128, bias=True)\n",
       "           )\n",
       "         )\n",
       "         (3): Normalization(\n",
       "           (normalizer): BatchNorm1d(128, eps=1e-05, momentum=0.1, affine=True, track_running_stats=True)\n",
       "         )\n",
       "       )\n",
       "       (2): MultiHeadAttentionLayer(\n",
       "         (0): SkipConnection(\n",
       "           (module): MultiHeadAttention()\n",
       "         )\n",
       "         (1): Normalization(\n",
       "           (normalizer): BatchNorm1d(128, eps=1e-05, momentum=0.1, affine=True, track_running_stats=True)\n",
       "         )\n",
       "         (2): SkipConnection(\n",
       "           (module): Sequential(\n",
       "             (0): Linear(in_features=128, out_features=512, bias=True)\n",
       "             (1): ReLU()\n",
       "             (2): Linear(in_features=512, out_features=128, bias=True)\n",
       "           )\n",
       "         )\n",
       "         (3): Normalization(\n",
       "           (normalizer): BatchNorm1d(128, eps=1e-05, momentum=0.1, affine=True, track_running_stats=True)\n",
       "         )\n",
       "       )\n",
       "     )\n",
       "   )\n",
       "   (project_node_embeddings): Linear(in_features=128, out_features=384, bias=False)\n",
       "   (project_fixed_context): Linear(in_features=128, out_features=128, bias=False)\n",
       "   (project_step_context): Linear(in_features=256, out_features=128, bias=False)\n",
       "   (project_out): Linear(in_features=128, out_features=128, bias=False)\n",
       " ),\n",
       " {'eval_batch_size': 2048,\n",
       "  'val_dataset': '',\n",
       "  'val_size': 10000,\n",
       "  'load_path': None,\n",
       "  'n_encode_layers': 3,\n",
       "  'lr_critic': 0.0001,\n",
       "  'output_dir': 'outputs',\n",
       "  'epoch_size': 1280000,\n",
       "  'tanh_clipping': 10.0,\n",
       "  'hidden_dim': 128,\n",
       "  'log_dir': 'logs',\n",
       "  'seed': 1235,\n",
       "  'n_epochs': 100,\n",
       "  'no_tensorboard': False,\n",
       "  'eval_only': False,\n",
       "  'embedding_dim': 128,\n",
       "  'lr_model': 0.0001,\n",
       "  'baseline': 'rollout',\n",
       "  'resume': None,\n",
       "  'bl_warmup_epochs': 1,\n",
       "  'no_progress_bar': True,\n",
       "  'run_name': 'tsp_100',\n",
       "  'problem': 'tsp',\n",
       "  'use_cuda': True,\n",
       "  'max_grad_norm': 1.0,\n",
       "  'epoch_start': 0,\n",
       "  'batch_size': 512,\n",
       "  'log_step': 500,\n",
       "  'save_dir': '',\n",
       "  'no_cuda': False,\n",
       "  'graph_size': 100,\n",
       "  'normalization': 'batch',\n",
       "  'model': 'attention',\n",
       "  'bl_alpha': 0.05,\n",
       "  'exp_beta': 0.8,\n",
       "  'lr_decay': 1.0,\n",
       "  'checkpoint_epochs': 50,\n",
       "  'data_distribution': None})"
      ]
     },
     "execution_count": 14,
     "metadata": {},
     "output_type": "execute_result"
    }
   ],
   "source": [
    "model"
   ]
  },
  {
   "cell_type": "code",
   "execution_count": 4,
   "id": "b821e2fd",
   "metadata": {},
   "outputs": [],
   "source": [
    "xy = np.random.rand(100, 2)"
   ]
  },
  {
   "cell_type": "code",
   "execution_count": 9,
   "id": "9d3f63f3",
   "metadata": {},
   "outputs": [
    {
     "data": {
      "text/plain": [
       "<matplotlib.collections.PathCollection at 0x14274b730>"
      ]
     },
     "execution_count": 9,
     "metadata": {},
     "output_type": "execute_result"
    },
    {
     "data": {
      "image/png": "[encoded data removed]",
      "text/plain": [
       "<Figure size 432x288 with 1 Axes>"
      ]
     },
     "metadata": {
      "needs_background": "light"
     },
     "output_type": "display_data"
    }
   ],
   "source": [
    "plt.scatter(xy[:, 0], xy[:, 1])"
   ]
  },
  {
   "cell_type": "code",
   "execution_count": 78,
   "id": "c31a6e47",
   "metadata": {},
   "outputs": [],
   "source": [
    "def make_oracle(model, xy, temperature=1.0):\n",
    "    # create a batched tensor out of data\n",
    "    # compute embeddings of nodes (inference)\n",
    "    # create a function \"oracle\", which computes the probabilities over the rest of the nodes being the next chosen node in the tour\n",
    "    ## compute the step_context - the NN input tensor, which describes the current tour (solution)\n",
    "    ### if there is no tour - use W_placeholder, if some tour exists use cat(embedding of the first node, embedding of the last node)\n",
    "    ## compute query, which consists of using the pre-computed embeddings and the projected context\n",
    "    ## compute mask of the tour with the addition of the batch and step dim to the final tensor\n",
    "    ## compute the logits\n",
    "    ## softamx the logits with the temperature\n",
    "\n",
    "    num_nodes = xy.shape[0]\n",
    "    xyt = torch.tensor(xy).float()[None]\n",
    "\n",
    "    with torch.no_grad():\n",
    "        embeddings, _ = model.embedder(model._init_embed(xyt))\n",
    "\n",
    "        fixed = model._precompute(embeddings)\n",
    "\n",
    "    def oracle(tour):\n",
    "        with torch.no_grad():\n",
    "            tour = torch.tensor(tour).long()\n",
    "            if len(tour) == 0:\n",
    "                step_context = model.W_placeholder\n",
    "            else:\n",
    "                step_context = torch.cat(\n",
    "                    (embeddings[0, tour[0]], embeddings[0, tour[-1]]), -1\n",
    "                )\n",
    "\n",
    "            query = fixed.context_node_projected + model.project_step_context(\n",
    "                step_context[None, None, :]\n",
    "            )\n",
    "\n",
    "            mask = torch.zeros(num_nodes) > 0\n",
    "            mask[tour] = 1\n",
    "            mask = mask[None, None, :]\n",
    "\n",
    "            log_p, _ = model._one_to_many_logits(\n",
    "                query, fixed.glimpse_key, fixed.glimpse_val, fixed.logit_key, mask\n",
    "            )\n",
    "            p = torch.softmax(log_p / temperature, -1)[0, 0]\n",
    "\n",
    "        return p.numpy()\n",
    "\n",
    "    return oracle"
   ]
  },
  {
   "cell_type": "code",
   "execution_count": 79,
   "id": "e9e3a31a",
   "metadata": {},
   "outputs": [],
   "source": [
    "oracle = make_oracle(model[0], xy)"
   ]
  },
  {
   "cell_type": "code",
   "execution_count": 80,
   "id": "52877110",
   "metadata": {},
   "outputs": [
    {
     "name": "stdout",
     "output_type": "stream",
     "text": [
      "[6, 11, 9, 90, 19, 1, 18, 87, 86, 33, 43, 26, 55, 72, 47, 67, 3, 13, 25, 65, 99, 31, 74, 37, 82, 39, 58, 34, 44, 54, 10, 24, 63, 32, 12, 17, 64, 35, 14, 50, 76, 23, 79, 49, 22, 7, 8, 69, 27, 53, 51, 98, 94, 15, 75, 73, 96, 28, 91, 60, 29, 85, 52, 95, 83, 89, 68, 80, 93, 92, 61, 40, 42, 57, 0, 71, 77, 88, 4, 59, 2, 56, 16, 84, 46, 20, 30, 62, 5, 21, 70, 48, 66, 38, 97, 36, 81, 78, 41, 45, 0]\n"
     ]
    }
   ],
   "source": [
    "### run the tour search\n",
    "\n",
    "### instantiate two lists: one for keeping the probas of tour nodes, one for tour nodes\n",
    "### while not all nodes included in the tour\n",
    "#### calculate the probas\n",
    "#### greedily pick the next node\n",
    "#### append to the two lists above\n",
    "\n",
    "tour = []\n",
    "tour_p = []\n",
    "\n",
    "while len(tour) <= xy.shape[0]:\n",
    "    p = oracle(tour)\n",
    "    next_node = np.argmax(p)\n",
    "    tour_p.append(p)\n",
    "    tour.append(next_node)\n",
    "\n",
    "print(tour)"
   ]
  },
  {
   "cell_type": "code",
   "execution_count": null,
   "id": "25d99d9b",
   "metadata": {},
   "outputs": [],
   "source": []
  }
 ],
 "metadata": {
  "kernelspec": {
   "display_name": "Python 3 (ipykernel)",
   "language": "python",
   "name": "python3"
  },
  "language_info": {
   "codemirror_mode": {
    "name": "ipython",
    "version": 3
   },
   "file_extension": ".py",
   "mimetype": "text/x-python",
   "name": "python",
   "nbconvert_exporter": "python",
   "pygments_lexer": "ipython3",
   "version": "3.10.6"
  }
 },
 "nbformat": 4,
 "nbformat_minor": 5
}
